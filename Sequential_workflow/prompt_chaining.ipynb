{
 "cells": [
  {
   "cell_type": "code",
   "execution_count": 1,
   "id": "f9314b07",
   "metadata": {},
   "outputs": [],
   "source": [
    "from langgraph.graph import StateGraph, START, END \n",
    "from langchain_openai import ChatOpenAI\n",
    "from typing import TypedDict\n",
    "from dotenv import load_dotenv "
   ]
  },
  {
   "cell_type": "code",
   "execution_count": 2,
   "id": "7db270e1",
   "metadata": {},
   "outputs": [],
   "source": [
    "model = ChatOpenAI() "
   ]
  },
  {
   "cell_type": "code",
   "execution_count": 20,
   "id": "5da23e02",
   "metadata": {},
   "outputs": [],
   "source": [
    "class ContentState(TypedDict):\n",
    "    title : str \n",
    "    outline : str \n",
    "    content : str \n",
    "    evaluate: str"
   ]
  },
  {
   "cell_type": "code",
   "execution_count": 6,
   "id": "eaf65093",
   "metadata": {},
   "outputs": [],
   "source": [
    "def create_outline(state: ContentState) -> ContentState:\n",
    "    # title\n",
    "    title = state['title']\n",
    "\n",
    "    # gen outline \n",
    "    prompt = f\"Create a outline for a blog on the topic: {title}\"\n",
    "    outline = model.invoke(prompt).content\n",
    "\n",
    "    # Update state \n",
    "    state['outline'] = outline\n",
    "\n",
    "    return state"
   ]
  },
  {
   "cell_type": "code",
   "execution_count": 12,
   "id": "b16e0bb7",
   "metadata": {},
   "outputs": [],
   "source": [
    "def create_blog(state: ContentState) -> ContentState:\n",
    "    title = state['title']\n",
    "    outline = state['outline']\n",
    "\n",
    "    prompt = f\"Write a detailed blog on the title - {title} using the following outline \\n {outline}\"\n",
    "\n",
    "    content = model.invoke(prompt).content\n",
    "\n",
    "    state['content'] = content \n",
    "    \n",
    "    return state"
   ]
  },
  {
   "cell_type": "code",
   "execution_count": 29,
   "id": "7e345362",
   "metadata": {},
   "outputs": [],
   "source": [
    "def evaluate(state: ContentState) -> ContentState:\n",
    "    content = state['content'] \n",
    "\n",
    "    prompt = f\"Based on my content - {content}, Rate it from 1 to 10 and give your short opinion\" \n",
    "\n",
    "    output = model.invoke(prompt).content\n",
    "\n",
    "    state['evaluate'] = output \n",
    "\n",
    "    return state\n",
    "    "
   ]
  },
  {
   "cell_type": "code",
   "execution_count": 30,
   "id": "79debfda",
   "metadata": {},
   "outputs": [],
   "source": [
    "# Graph state \n",
    "graph = StateGraph(ContentState)\n",
    "\n",
    "# Add node\n",
    "graph.add_node(\"create_outline\", create_outline)\n",
    "graph.add_node(\"create_blog\", create_blog)\n",
    "graph.add_node(\"evaluate\", evaluate)\n",
    "\n",
    "# Add edges \n",
    "graph.add_edge(START, 'create_outline') \n",
    "graph.add_edge('create_outline', 'create_blog') \n",
    "graph.add_edge('create_blog', 'evaluate') \n",
    "graph.add_edge('evaluate', END) \n",
    "\n",
    "workflow = graph.compile()\n"
   ]
  },
  {
   "cell_type": "code",
   "execution_count": 31,
   "id": "0bd13568",
   "metadata": {},
   "outputs": [],
   "source": [
    "intial_state = {'title': \"Gaming Revolution\"}\n",
    "\n",
    "final_state = workflow.invoke(intial_state)"
   ]
  },
  {
   "cell_type": "code",
   "execution_count": 32,
   "id": "9ab9a317",
   "metadata": {},
   "outputs": [
    {
     "name": "stdout",
     "output_type": "stream",
     "text": [
      "{'title': 'Gaming Revolution', 'outline': \"I. Introduction\\n    A. Explanation of the gaming industry's evolution over time\\n    B. Importance of gaming in modern society\\n\\nII. Historical Perspective\\n    A. Overview of the early days of gaming\\n    B. Milestones in gaming history\\n    C. Emergence of different gaming platforms\\n\\nIII. Technology Advancements\\n    A. Impact of advancements in technology on gaming\\n    B. Introduction of virtual reality and augmented reality in gaming\\n    C. Influence of AI and machine learning in gaming development\\n\\nIV. Changing Trends in Gaming\\n    A. Growth of mobile gaming\\n    B. Rise of competitive gaming and eSports\\n    C. Evolution of game streaming and online communities\\n\\nV. Social and Cultural Impact\\n    A. Influence of gaming on popular culture\\n    B. Impact of gaming on social interactions and relationships\\n    C. Role of gaming in education and skill development\\n\\nVI. Future of Gaming\\n    A. Predictions for the future of the gaming industry\\n    B. Potential innovations and trends to watch for\\n    C. Implications of gaming revolution on society\\n\\nVII. Conclusion\\n    A. Recap of key points discussed in the blog\\n    B. Call to action for readers to stay updated on gaming revolution\\n    C. Closing thoughts on the importance of embracing change in gaming.\", 'content': 'I. Introduction\\n\\nThe gaming industry has come a long way since its inception, evolving from simple arcade games to complex and immersive virtual worlds. In modern society, gaming has become an integral part of entertainment and culture, attracting millions of players from around the world. This blog will explore the gaming revolution, its historical perspective, technological advancements, changing trends, social and cultural impact, and the future of gaming.\\n\\nII. Historical Perspective\\n\\nIn the early days of gaming, simple games like Pong and Space Invaders paved the way for the industry we know today. Milestones such as the release of the Nintendo Entertainment System (NES) and the rise of PC gaming revolutionized the way we play. The emergence of different gaming platforms, from consoles to handheld devices, has made gaming more accessible to a wider audience.\\n\\nIII. Technology Advancements\\n\\nAdvancements in technology have had a profound impact on the gaming industry. The introduction of virtual reality (VR) and augmented reality (AR) has transformed the way we experience games, immersing players in virtual worlds like never before. AI and machine learning have also played a significant role in game development, creating more intelligent and dynamic gameplay experiences.\\n\\nIV. Changing Trends in Gaming\\n\\nMobile gaming has seen tremendous growth in recent years, with smartphones and tablets becoming popular gaming devices. The rise of competitive gaming and eSports has turned gaming into a professional sport, attracting large audiences and generating millions in revenue. The evolution of game streaming platforms like Twitch and Mixer has created new opportunities for players to connect with online communities and share their gaming experiences.\\n\\nV. Social and Cultural Impact\\n\\nGaming has had a huge influence on popular culture, with gaming icons and franchises becoming household names. Gaming has also played a role in shaping social interactions and relationships, with many players forming friendships and communities through online gaming. In education, gaming has been used as a tool for skill development and learning, teaching players valuable problem-solving and critical thinking skills.\\n\\nVI. Future of Gaming\\n\\nThe future of gaming is full of exciting possibilities, with predictions for continued growth and innovation in the industry. Potential advancements to watch for include new technologies like cloud gaming and 5G connectivity, as well as the continued expansion of VR and AR experiences. The gaming revolution is expected to have far-reaching implications on society, influencing entertainment, education, and even the way we work.\\n\\nVII. Conclusion\\n\\nIn conclusion, the gaming revolution is an ongoing process that continues to shape the way we play and interact with games. It is important for players to stay updated on the latest trends and innovations in gaming to fully embrace the changes that come with it. By understanding the history, technology, and impact of gaming, we can appreciate the significance of this evolving industry and its role in modern society. Let us embrace the gaming revolution and continue to explore the endless possibilities that gaming has to offer.', 'evaluate': 'I would rate this content a 9. It provides a comprehensive overview of the gaming industry, covering its historical perspective, technological advancements, changing trends, social and cultural impact, and future outlook. The content is well-organized and informative, making it a valuable read for anyone interested in the gaming industry. Great job!'}\n"
     ]
    }
   ],
   "source": [
    "print(final_state)"
   ]
  },
  {
   "cell_type": "code",
   "execution_count": 33,
   "id": "4ad1b366",
   "metadata": {},
   "outputs": [
    {
     "name": "stdout",
     "output_type": "stream",
     "text": [
      "Gaming Revolution\n"
     ]
    }
   ],
   "source": [
    "print(final_state['title'])"
   ]
  },
  {
   "cell_type": "code",
   "execution_count": 34,
   "id": "670b349d",
   "metadata": {},
   "outputs": [
    {
     "name": "stdout",
     "output_type": "stream",
     "text": [
      "I. Introduction\n",
      "    A. Explanation of the gaming industry's evolution over time\n",
      "    B. Importance of gaming in modern society\n",
      "\n",
      "II. Historical Perspective\n",
      "    A. Overview of the early days of gaming\n",
      "    B. Milestones in gaming history\n",
      "    C. Emergence of different gaming platforms\n",
      "\n",
      "III. Technology Advancements\n",
      "    A. Impact of advancements in technology on gaming\n",
      "    B. Introduction of virtual reality and augmented reality in gaming\n",
      "    C. Influence of AI and machine learning in gaming development\n",
      "\n",
      "IV. Changing Trends in Gaming\n",
      "    A. Growth of mobile gaming\n",
      "    B. Rise of competitive gaming and eSports\n",
      "    C. Evolution of game streaming and online communities\n",
      "\n",
      "V. Social and Cultural Impact\n",
      "    A. Influence of gaming on popular culture\n",
      "    B. Impact of gaming on social interactions and relationships\n",
      "    C. Role of gaming in education and skill development\n",
      "\n",
      "VI. Future of Gaming\n",
      "    A. Predictions for the future of the gaming industry\n",
      "    B. Potential innovations and trends to watch for\n",
      "    C. Implications of gaming revolution on society\n",
      "\n",
      "VII. Conclusion\n",
      "    A. Recap of key points discussed in the blog\n",
      "    B. Call to action for readers to stay updated on gaming revolution\n",
      "    C. Closing thoughts on the importance of embracing change in gaming.\n"
     ]
    }
   ],
   "source": [
    "print(final_state['outline'])"
   ]
  },
  {
   "cell_type": "code",
   "execution_count": 35,
   "id": "fca7024c",
   "metadata": {},
   "outputs": [
    {
     "name": "stdout",
     "output_type": "stream",
     "text": [
      "I. Introduction\n",
      "\n",
      "The gaming industry has come a long way since its inception, evolving from simple arcade games to complex and immersive virtual worlds. In modern society, gaming has become an integral part of entertainment and culture, attracting millions of players from around the world. This blog will explore the gaming revolution, its historical perspective, technological advancements, changing trends, social and cultural impact, and the future of gaming.\n",
      "\n",
      "II. Historical Perspective\n",
      "\n",
      "In the early days of gaming, simple games like Pong and Space Invaders paved the way for the industry we know today. Milestones such as the release of the Nintendo Entertainment System (NES) and the rise of PC gaming revolutionized the way we play. The emergence of different gaming platforms, from consoles to handheld devices, has made gaming more accessible to a wider audience.\n",
      "\n",
      "III. Technology Advancements\n",
      "\n",
      "Advancements in technology have had a profound impact on the gaming industry. The introduction of virtual reality (VR) and augmented reality (AR) has transformed the way we experience games, immersing players in virtual worlds like never before. AI and machine learning have also played a significant role in game development, creating more intelligent and dynamic gameplay experiences.\n",
      "\n",
      "IV. Changing Trends in Gaming\n",
      "\n",
      "Mobile gaming has seen tremendous growth in recent years, with smartphones and tablets becoming popular gaming devices. The rise of competitive gaming and eSports has turned gaming into a professional sport, attracting large audiences and generating millions in revenue. The evolution of game streaming platforms like Twitch and Mixer has created new opportunities for players to connect with online communities and share their gaming experiences.\n",
      "\n",
      "V. Social and Cultural Impact\n",
      "\n",
      "Gaming has had a huge influence on popular culture, with gaming icons and franchises becoming household names. Gaming has also played a role in shaping social interactions and relationships, with many players forming friendships and communities through online gaming. In education, gaming has been used as a tool for skill development and learning, teaching players valuable problem-solving and critical thinking skills.\n",
      "\n",
      "VI. Future of Gaming\n",
      "\n",
      "The future of gaming is full of exciting possibilities, with predictions for continued growth and innovation in the industry. Potential advancements to watch for include new technologies like cloud gaming and 5G connectivity, as well as the continued expansion of VR and AR experiences. The gaming revolution is expected to have far-reaching implications on society, influencing entertainment, education, and even the way we work.\n",
      "\n",
      "VII. Conclusion\n",
      "\n",
      "In conclusion, the gaming revolution is an ongoing process that continues to shape the way we play and interact with games. It is important for players to stay updated on the latest trends and innovations in gaming to fully embrace the changes that come with it. By understanding the history, technology, and impact of gaming, we can appreciate the significance of this evolving industry and its role in modern society. Let us embrace the gaming revolution and continue to explore the endless possibilities that gaming has to offer.\n"
     ]
    }
   ],
   "source": [
    "print(final_state['content'])"
   ]
  },
  {
   "cell_type": "code",
   "execution_count": 36,
   "id": "1524c81d",
   "metadata": {},
   "outputs": [
    {
     "name": "stdout",
     "output_type": "stream",
     "text": [
      "I would rate this content a 9. It provides a comprehensive overview of the gaming industry, covering its historical perspective, technological advancements, changing trends, social and cultural impact, and future outlook. The content is well-organized and informative, making it a valuable read for anyone interested in the gaming industry. Great job!\n"
     ]
    }
   ],
   "source": [
    "print(final_state['evaluate'])"
   ]
  },
  {
   "cell_type": "code",
   "execution_count": 37,
   "id": "c2c163a6",
   "metadata": {},
   "outputs": [
    {
     "data": {
      "image/png": "[encoded data removed]",
      "text/plain": [
       "<IPython.core.display.Image object>"
      ]
     },
     "execution_count": 37,
     "metadata": {},
     "output_type": "execute_result"
    }
   ],
   "source": [
    "from IPython.display import Image \n",
    "Image(workflow.get_graph().draw_mermaid_png())"
   ]
  }
 ],
 "metadata": {
  "kernelspec": {
   "display_name": "venv",
   "language": "python",
   "name": "python3"
  },
  "language_info": {
   "codemirror_mode": {
    "name": "ipython",
    "version": 3
   },
   "file_extension": ".py",
   "mimetype": "text/x-python",
   "name": "python",
   "nbconvert_exporter": "python",
   "pygments_lexer": "ipython3",
   "version": "3.10.11"
  }
 },
 "nbformat": 4,
 "nbformat_minor": 5
}
