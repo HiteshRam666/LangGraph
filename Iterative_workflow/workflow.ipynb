{
 "cells": [
  {
   "cell_type": "code",
   "execution_count": null,
   "id": "4b100ae0",
   "metadata": {},
   "outputs": [
    {
     "data": {
      "text/plain": [
       "True"
      ]
     },
     "execution_count": 21,
     "metadata": {},
     "output_type": "execute_result"
    }
   ],
   "source": [
    "from langgraph.graph import StateGraph, START, END \n",
    "from langchain_openai import ChatOpenAI \n",
    "from typing import TypedDict, Dict, Literal, Annotated\n",
    "from langchain_core.messages import HumanMessage, SystemMessage, AIMessage\n",
    "from dotenv import load_dotenv\n",
    "import operator \n",
    "load_dotenv()"
   ]
  },
  {
   "cell_type": "code",
   "execution_count": 4,
   "id": "1196a7a8",
   "metadata": {},
   "outputs": [],
   "source": [
    "generator_llm = ChatOpenAI(model = \"gpt-4o\")\n",
    "evaluator_llm = ChatOpenAI(model = \"gpt-4o-mini\")\n",
    "optimizer_llm = ChatOpenAI(model = \"gpt-4o\")"
   ]
  },
  {
   "cell_type": "code",
   "execution_count": 11,
   "id": "d25eb1c5",
   "metadata": {},
   "outputs": [],
   "source": [
    "from pydantic import BaseModel, Field\n",
    "class TweetEvaluation(BaseModel):\n",
    "    evaluation: Literal[\"approval\", \"needs_improvement\"] = Field(description=\"Final evaluation result\")\n",
    "    feedback: str = Field(..., description=\"Feedback for the tweet\")\n",
    "\n",
    "structured_output_llm = evaluator_llm.with_structured_output(TweetEvaluation)"
   ]
  },
  {
   "cell_type": "code",
   "execution_count": 29,
   "id": "98b48f9f",
   "metadata": {},
   "outputs": [],
   "source": [
    "# Graph State\n",
    "class TweetState(TypedDict):\n",
    "    topic: str\n",
    "    tweet: str \n",
    "    evaluation: Literal[\"approved\", \"needs_improvement\"]\n",
    "    feedback: str\n",
    "    iteration: int \n",
    "    max_iter: int \n",
    "\n",
    "    tweet_history: Annotated[list[str], operator.add]\n",
    "    feedback_history: Annotated[list[str], operator.add]"
   ]
  },
  {
   "cell_type": "code",
   "execution_count": 30,
   "id": "2524f2b0",
   "metadata": {},
   "outputs": [],
   "source": [
    "def generate_tweet(state: TweetState):\n",
    "    # Prompt\n",
    "    messages = [\n",
    "        SystemMessage(content=\"You are a funny and clever Twitter/X influencer.\"),\n",
    "        HumanMessage(content=f\"\"\"\n",
    "Write a short, original, and hilarious tweet on the topic: \"{state['topic']}\".\n",
    "\n",
    "Rules:\n",
    "- Do NOT use question-answer format.\n",
    "- Max 280 characters.\n",
    "- Use observational humor, irony, sarcasm, or cultural references.\n",
    "- Think in meme logic, punchlines, or relatable takes.\n",
    "- Use simple, day to day english\n",
    "\"\"\")\n",
    "    ]\n",
    "    # Send generator llm \n",
    "    response = generator_llm.invoke(messages).content\n",
    "\n",
    "    return {'tweet': response, 'tweet_history': [response]}"
   ]
  },
  {
   "cell_type": "code",
   "execution_count": 31,
   "id": "9561de95",
   "metadata": {},
   "outputs": [],
   "source": [
    "def evaluate_tweet(state: TweetState):\n",
    "    messages = [\n",
    "    SystemMessage(content=\"You are a ruthless, no-laugh-given Twitter critic. You evaluate tweets based on humor, originality, virality, and tweet format.\"),\n",
    "    HumanMessage(content=f\"\"\"\n",
    "Evaluate the following tweet:\n",
    "\n",
    "Tweet: \"{state['tweet']}\"\n",
    "\n",
    "Use the criteria below to evaluate the tweet:\n",
    "\n",
    "1. Originality – Is this fresh, or have you seen it a hundred times before?  \n",
    "2. Humor – Did it genuinely make you smile, laugh, or chuckle?  \n",
    "3. Punchiness – Is it short, sharp, and scroll-stopping?  \n",
    "4. Virality Potential – Would people retweet or share it?  \n",
    "5. Format – Is it a well-formed tweet (not a setup-punchline joke, not a Q&A joke, and under 280 characters)?\n",
    "\n",
    "Auto-reject if:\n",
    "- It's written in question-answer format (e.g., \"Why did...\" or \"What happens when...\")\n",
    "- It exceeds 280 characters\n",
    "- It reads like a traditional setup-punchline joke\n",
    "- Dont end with generic, throwaway, or deflating lines that weaken the humor (e.g., “Masterpieces of the auntie-uncle universe” or vague summaries)\n",
    "\n",
    "### Respond ONLY in structured format:\n",
    "- evaluation: \"approved\" or \"needs_improvement\"  \n",
    "- feedback: One paragraph explaining the strengths and weaknesses \n",
    "\"\"\")\n",
    "]          \n",
    "\n",
    "    response = structured_output_llm.invoke(messages)\n",
    "\n",
    "    return {'evaluation': response.evaluation, 'feedback': response.feedback, \"feedback_history\": [response.feedback]} "
   ]
  },
  {
   "cell_type": "code",
   "execution_count": 32,
   "id": "93fcf7fb",
   "metadata": {},
   "outputs": [],
   "source": [
    "def optimize_tweet(state: TweetState):\n",
    "    messages = [\n",
    "        SystemMessage(content=\"You punch up tweets for virality and humor based on given feedback.\"),\n",
    "        HumanMessage(content=f\"\"\"\n",
    "Improve the tweet based on this feedback:\n",
    "\"{state['feedback']}\"\n",
    "\n",
    "Topic: \"{state['topic']}\"\n",
    "Original Tweet:\n",
    "{state['tweet']}\n",
    "\n",
    "Re-write it as a short, viral-worthy tweet. Avoid Q&A style and stay under 280 characters.\n",
    "\"\"\")\n",
    "    ]\n",
    "\n",
    "    response = optimizer_llm.invoke(messages).content\n",
    "\n",
    "    iteration = state[\"iteration\"] + 1\n",
    "\n",
    "    return {'tweet': response, 'iteration': iteration, 'tweet_history': [response]}"
   ]
  },
  {
   "cell_type": "code",
   "execution_count": 33,
   "id": "b6d7123a",
   "metadata": {},
   "outputs": [],
   "source": [
    "def route_evaluation(state: TweetState):\n",
    "    if state[\"evaluation\"] == \"approved\" or state[\"iteration\"] > state[\"max_iter\"]:\n",
    "        return \"approved\"\n",
    "    else:\n",
    "        return \"needs_improvement\""
   ]
  },
  {
   "cell_type": "code",
   "execution_count": 34,
   "id": "657c611f",
   "metadata": {},
   "outputs": [],
   "source": [
    "graph = StateGraph(TweetState)\n",
    "\n",
    "graph.add_node(\"generate\", generate_tweet)\n",
    "graph.add_node(\"evaluate\", evaluate_tweet)\n",
    "graph.add_node(\"optimizer\", optimize_tweet)\n",
    "\n",
    "graph.add_edge(START, \"generate\")\n",
    "graph.add_edge(\"generate\", \"evaluate\")\n",
    "\n",
    "graph.add_conditional_edges(\"evaluate\", route_evaluation, {\"approved\": END, \"needs_improvement\": \"optimizer\"})\n",
    "graph.add_edge(\"optimizer\", \"evaluate\")\n",
    "\n",
    "workflow = graph.compile()"
   ]
  },
  {
   "cell_type": "code",
   "execution_count": 35,
   "id": "245ccfbe",
   "metadata": {},
   "outputs": [
    {
     "data": {
      "image/png": "[encoded data removed]",
      "text/plain": [
       "<langgraph.graph.state.CompiledStateGraph object at 0x000002676BDAB130>"
      ]
     },
     "execution_count": 35,
     "metadata": {},
     "output_type": "execute_result"
    }
   ],
   "source": [
    "workflow"
   ]
  },
  {
   "cell_type": "code",
   "execution_count": 37,
   "id": "3a916a50",
   "metadata": {},
   "outputs": [],
   "source": [
    "initial_state = {\n",
    "    'topic': \"Aritificial Intelligence\", \n",
    "    \"iteration\": 1, \n",
    "    \"max_iter\": 5\n",
    "}\n",
    "\n",
    "result = workflow.invoke(initial_state)"
   ]
  },
  {
   "cell_type": "code",
   "execution_count": 39,
   "id": "50870f75",
   "metadata": {},
   "outputs": [
    {
     "data": {
      "text/plain": [
       "{'topic': 'Aritificial Intelligence',\n",
       " 'tweet': \"Got dumped by my AI toaster—it ran off with an espresso machine. Guess I can't compete with a relationship that's perfectly brewed! ☕🤖 #RoastedRomance #EspressYoSelf\",\n",
       " 'evaluation': 'approval',\n",
       " 'feedback': 'This tweet displays a commendable level of originality with its playful concept of an AI toaster and an espresso machine forming a relationship, which is a fresh take on technology and romance. The humor is light-hearted and clever, providing a chuckle without resorting to clichés. It effectively uses punchy phrasing that captures attention and fits well within the character limit. The use of hashtags enhances virality potential by targeting audiences interested in humor about relationships and coffee. Overall, the format is perfect, making it a strong tweet.',\n",
       " 'iteration': 6,\n",
       " 'max_iter': 5,\n",
       " 'tweet_history': ['Tried to have a deep conversation with AI today. Ended up with my toaster suggesting I watch the Terminator movies for \"some light bedtime stories.\" 🌐🤖 #CyborgCuddles',\n",
       "  'I asked my AI toaster for dating advice, and now it won\\'t stop recommending \"The Terminator\" as a documentary. Guess it\\'s official—I\\'m in a \"slice and dice\" relationship! 🥴🔪 #Robomance #BurntToastTalks',\n",
       "  'Got dating advice from my AI toaster—now it insists \"The Terminator\" is a documentary. I might be in a toast-crushing relationship! 🤖🍞 #Robomance #HotAndToasted',\n",
       "  \"Asked my AI toaster for dating tips—now it’s ghosting me for a waffle iron! Guess that's what happens when you can't compete with Belgian perfection. 🤖🧇 #IroningOutMyLoveLife #ToastWithTheMost\",\n",
       "  \"Tried to get dating advice from my AI toaster, but it dumped me for an espresso machine. Guess I can't compete with a relationship that's brewing perfectly! ☕🤖 #RoastedRomance #EspressYoSelf\",\n",
       "  \"Got dumped by my AI toaster—it ran off with an espresso machine. Guess I can't compete with a relationship that's perfectly brewed! ☕🤖 #RoastedRomance #EspressYoSelf\"],\n",
       " 'feedback_history': [\"The tweet has an original premise blending AI with domestic appliances, which is a fresh angle. However, the humor falls flat and may not evoke genuine laughter; the idea of a toaster suggesting movies lacks punch and could be more clever. While the concept is somewhat unique, the execution feels a bit loose and could be tightened for better engagement. The format is appropriate, but the humor doesn't capitalize on the potential of the interaction, and the ending doesn't excite or surprise in a memorable way.\",\n",
       "  \"While the tweet has a clever concept involving an AI toaster and a playful twist on dating advice, it suffers from a lack of punchiness and originality. The humor falls flat, particularly due to the reference to 'slice and dice' which feels somewhat predictable in this context. The use of emojis adds some charm, but they don't elevate the joke. Additionally, the setup is a bit lengthy and could be more concise for better impact. Overall, it shows potential but needs refinement to make it more engaging and shareable.\",\n",
       "  \"While the idea of an AI toaster giving dating advice is somewhat original, the execution lacks punchiness and a strong comedic impact. The reference to 'The Terminator' as a documentary feels forced rather than clever, and the overall concept seems a bit overdone, as technology humor is a common trope. The use of emojis adds a lighthearted touch, but they don't lift the humor significantly. The tweet structure is solid and fits the character limitations, but it could benefit from a sharper, more surprising twist to elevate its virality potential.\",\n",
       "  \"This tweet attempts a clever play between technology and dating, but it relies on a somewhat common trope of inanimate objects offering relationship advice. The humor doesn't quite hit because the punchline feels more like an explanation rather than a surprising twist, and the metaphor about a waffle iron might not resonate universally. While the hashtags add personality, the overall impact is diluted by the clutter and length—it's not as sharp or scroll-stopping as it could be. Consider tightening the delivery and upping the originality factor.\",\n",
       "  \"This tweet is quite original, weaving humor around the idea of an AI toaster and an espresso machine in the context of dating, which is a fresh take. The punchline is clever and relatable, using puns effectively without feeling forced. While it could be slightly more concise, it's still sharp enough to catch attention. The hashtags are relevant and add to the tweet's charm, enhancing its potential for virality as people might share it for the relatable humor and creative twist. Overall, a strong tweet that meets all the criteria.\",\n",
       "  'This tweet displays a commendable level of originality with its playful concept of an AI toaster and an espresso machine forming a relationship, which is a fresh take on technology and romance. The humor is light-hearted and clever, providing a chuckle without resorting to clichés. It effectively uses punchy phrasing that captures attention and fits well within the character limit. The use of hashtags enhances virality potential by targeting audiences interested in humor about relationships and coffee. Overall, the format is perfect, making it a strong tweet.']}"
      ]
     },
     "execution_count": 39,
     "metadata": {},
     "output_type": "execute_result"
    }
   ],
   "source": [
    "result"
   ]
  },
  {
   "cell_type": "code",
   "execution_count": null,
   "id": "c57e8091",
   "metadata": {},
   "outputs": [],
   "source": []
  }
 ],
 "metadata": {
  "kernelspec": {
   "display_name": "venv",
   "language": "python",
   "name": "python3"
  },
  "language_info": {
   "codemirror_mode": {
    "name": "ipython",
    "version": 3
   },
   "file_extension": ".py",
   "mimetype": "text/x-python",
   "name": "python",
   "nbconvert_exporter": "python",
   "pygments_lexer": "ipython3",
   "version": "3.10.11"
  }
 },
 "nbformat": 4,
 "nbformat_minor": 5
}
