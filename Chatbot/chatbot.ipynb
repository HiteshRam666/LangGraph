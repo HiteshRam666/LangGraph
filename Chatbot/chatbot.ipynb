{
 "cells": [
  {
   "cell_type": "code",
   "execution_count": 3,
   "id": "c47dc43b",
   "metadata": {},
   "outputs": [
    {
     "data": {
      "text/plain": [
       "True"
      ]
     },
     "execution_count": 3,
     "metadata": {},
     "output_type": "execute_result"
    }
   ],
   "source": [
    "from langgraph.graph import StateGraph, START, END \n",
    "from langchain_openai import ChatOpenAI \n",
    "from typing import TypedDict, Annotated \n",
    "from pydantic import BaseModel\n",
    "from langchain_core.messages import BaseMessage, HumanMessage\n",
    "from dotenv import load_dotenv\n",
    "load_dotenv()       "
   ]
  },
  {
   "cell_type": "code",
   "execution_count": 5,
   "id": "783f016f",
   "metadata": {},
   "outputs": [],
   "source": [
    "from langgraph.graph.message import add_messages # acts as reducer\n",
    "class ChatState(TypedDict):\n",
    "    messages: Annotated[list[BaseMessage], add_messages]"
   ]
  },
  {
   "cell_type": "code",
   "execution_count": 6,
   "id": "485dbe82",
   "metadata": {},
   "outputs": [],
   "source": [
    "llm = ChatOpenAI() \n",
    "\n",
    "def chat_node(state: ChatState):\n",
    "    # Take user query from state \n",
    "    messages = state['messages']\n",
    "\n",
    "    # sent to llm\n",
    "    response = llm.invoke(messages)\n",
    "\n",
    "    # Response store state\n",
    "    return {'messages': [response]}"
   ]
  },
  {
   "cell_type": "code",
   "execution_count": 8,
   "id": "4cf1fc51",
   "metadata": {},
   "outputs": [],
   "source": [
    "graph = StateGraph(ChatState)\n",
    "\n",
    "graph.add_node(\"chat_node\", chat_node) \n",
    "\n",
    "graph.add_edge(START, \"chat_node\")\n",
    "graph.add_edge(\"chat_node\", END)\n",
    "\n",
    "chatbot = graph.compile()"
   ]
  },
  {
   "cell_type": "code",
   "execution_count": 9,
   "id": "0338b14c",
   "metadata": {},
   "outputs": [
    {
     "data": {
      "image/png": "[encoded data removed]",
      "text/plain": [
       "<langgraph.graph.state.CompiledStateGraph object at 0x000001C3340DF580>"
      ]
     },
     "execution_count": 9,
     "metadata": {},
     "output_type": "execute_result"
    }
   ],
   "source": [
    "chatbot"
   ]
  },
  {
   "cell_type": "code",
   "execution_count": 10,
   "id": "3da9e1a6",
   "metadata": {},
   "outputs": [
    {
     "data": {
      "text/plain": [
       "{'messages': [HumanMessage(content='What is the captial of india', additional_kwargs={}, response_metadata={}, id='08a98006-57f5-415f-aa1b-ff7465b6fe3d'),\n",
       "  AIMessage(content='The capital of India is New Delhi.', additional_kwargs={'refusal': None}, response_metadata={'token_usage': {'completion_tokens': 8, 'prompt_tokens': 14, 'total_tokens': 22, 'completion_tokens_details': {'accepted_prediction_tokens': 0, 'audio_tokens': 0, 'reasoning_tokens': 0, 'rejected_prediction_tokens': 0}, 'prompt_tokens_details': {'audio_tokens': 0, 'cached_tokens': 0}}, 'model_name': 'gpt-3.5-turbo-0125', 'system_fingerprint': None, 'id': 'chatcmpl-C0pr1GLAgQ8mMh7RnZs6BlC9VTqZS', 'service_tier': 'default', 'finish_reason': 'stop', 'logprobs': None}, id='run--3c92c325-ed91-4127-87ee-04303a2e9d11-0', usage_metadata={'input_tokens': 14, 'output_tokens': 8, 'total_tokens': 22, 'input_token_details': {'audio': 0, 'cache_read': 0}, 'output_token_details': {'audio': 0, 'reasoning': 0}})]}"
      ]
     },
     "execution_count": 10,
     "metadata": {},
     "output_type": "execute_result"
    }
   ],
   "source": [
    "initial_state = {'messages': [HumanMessage(content=\"What is the captial of india\")]}\n",
    "\n",
    "chatbot.invoke(initial_state)"
   ]
  },
  {
   "cell_type": "code",
   "execution_count": 13,
   "id": "ed31ef91",
   "metadata": {},
   "outputs": [
    {
     "name": "stdout",
     "output_type": "stream",
     "text": [
      "User Message: Hello\n",
      "AI Message: Hello! How can I assist you today?\n",
      "User Message: My name is Hitesh\n",
      "AI Message: Hello Hitesh! How can I assist you today?\n",
      "User Message: What is my name ?\n",
      "AI Message: I'm sorry, I am an AI assistant and I do not have access to your personal information such as your name.\n",
      "User Message: What is 10 * 20\n",
      "AI Message: 10 * 20 = 200\n",
      "User Message: Now add 50 to it\n",
      "AI Message: 1275\n",
      "User Message: bye\n"
     ]
    }
   ],
   "source": [
    "while True:\n",
    "    user_message = input(\"Type here: \")\n",
    "    print(f'User Message: {user_message}')\n",
    "\n",
    "    if user_message.strip().lower() in ['exit', 'quit', 'bye']:\n",
    "        break\n",
    "    \n",
    "    response = chatbot.invoke({'messages': [HumanMessage(content=user_message)]})   \n",
    "\n",
    "    print(f\"AI Message: {response['messages'][-1].content}\")"
   ]
  },
  {
   "cell_type": "markdown",
   "id": "a6b4259f",
   "metadata": {},
   "source": [
    "## **Adding Memory to chatbot**"
   ]
  },
  {
   "cell_type": "code",
   "execution_count": 14,
   "id": "dba63d40",
   "metadata": {},
   "outputs": [],
   "source": [
    "from langgraph.checkpoint.memory import MemorySaver \n",
    "\n",
    "checkpointer = MemorySaver()\n",
    "graph = StateGraph(ChatState)\n",
    "\n",
    "graph.add_node(\"chat_node\", chat_node) \n",
    "\n",
    "graph.add_edge(START, \"chat_node\")\n",
    "graph.add_edge(\"chat_node\", END)\n",
    "\n",
    "chatbot = graph.compile(checkpointer=checkpointer)"
   ]
  },
  {
   "cell_type": "code",
   "execution_count": 15,
   "id": "58035040",
   "metadata": {},
   "outputs": [
    {
     "data": {
      "image/png": "[encoded data removed]",
      "text/plain": [
       "<langgraph.graph.state.CompiledStateGraph object at 0x000001C33413DF60>"
      ]
     },
     "execution_count": 15,
     "metadata": {},
     "output_type": "execute_result"
    }
   ],
   "source": [
    "chatbot"
   ]
  },
  {
   "cell_type": "code",
   "execution_count": null,
   "id": "628f036e",
   "metadata": {},
   "outputs": [
    {
     "name": "stdout",
     "output_type": "stream",
     "text": [
      "User Message: Hi \n",
      "AI Message:  Hello! How can I assist you today?\n",
      "User Message: My name is Hitesh\n",
      "AI Message:  Nice to meet you, Hitesh! How can I help you today?\n",
      "User Message: What is my name\n",
      "AI Message:  Your name is Hitesh.\n",
      "User Message: Can you suggest good username related to my name for instagram\n",
      "AI Message:  Of course! Here are some Instagram username suggestions related to your name \"Hitesh\":\n",
      "1. HiteshVibes\n",
      "2. HiteshJourney\n",
      "3. TheRealHitesh\n",
      "4. HiteshInspires\n",
      "5. Hitesh_Adventures\n",
      "6. HiteshExplore\n",
      "7. HiteshCreates\n",
      "8. Hitesh_Wanderlust\n",
      "9. HiteshChronicles\n",
      "10. HiteshDreamer\n",
      "\n",
      "I hope these suggestions help you find the perfect Instagram username!\n",
      "User Message: Make joke with my name\n",
      "AI Message:  Sure! Here's a light-hearted joke related to your name, Hitesh:\n",
      "\n",
      "Why did Hitesh bring a ladder to the bar?\n",
      "\n",
      "Because he heard the drinks were on the house! \n",
      "\n",
      "I hope that brought a smile to your face! Let me know if you want to hear more jokes or if there's anything else I can help you with.\n",
      "User Message: What is 10 * 10\n",
      "AI Message:  10 * 10 equals 100.\n",
      "User Message: Now add 50 to it\n",
      "AI Message:  Adding 50 to 100 results in 150.\n",
      "User Message: bye\n"
     ]
    }
   ],
   "source": [
    "thread_id = \"1\"\n",
    "\n",
    "while True:\n",
    "    user_input = input(\"Enter you text: \")\n",
    "    \n",
    "    print(f\"User Message: {user_input}\")\n",
    "\n",
    "    if user_input.strip().lower() in [\"bye\", \"quit\", \"exit\"]:\n",
    "        break \n",
    "\n",
    "    config = {\"configurable\": {\"thread_id\": thread_id}}\n",
    "    response = chatbot.invoke({'messages': [HumanMessage(content=user_input)]}, config=config)\n",
    "\n",
    "    print(\"AI Message: \", response[\"messages\"][-1].content)"
   ]
  },
  {
   "cell_type": "code",
   "execution_count": 17,
   "id": "5deba1fc",
   "metadata": {},
   "outputs": [
    {
     "data": {
      "text/plain": [
       "StateSnapshot(values={'messages': [HumanMessage(content='Hi ', additional_kwargs={}, response_metadata={}, id='aceff8da-a0a8-42a1-a5e1-dd561be8265e'), AIMessage(content='Hello! How can I assist you today?', additional_kwargs={'refusal': None}, response_metadata={'token_usage': {'completion_tokens': 9, 'prompt_tokens': 9, 'total_tokens': 18, 'completion_tokens_details': {'accepted_prediction_tokens': 0, 'audio_tokens': 0, 'reasoning_tokens': 0, 'rejected_prediction_tokens': 0}, 'prompt_tokens_details': {'audio_tokens': 0, 'cached_tokens': 0}}, 'model_name': 'gpt-3.5-turbo-0125', 'system_fingerprint': None, 'id': 'chatcmpl-C0qxvs0jO5UfC66vihGTahBkt3xoe', 'service_tier': 'default', 'finish_reason': 'stop', 'logprobs': None}, id='run--530c65ee-f503-4d5c-83fa-787306fefb47-0', usage_metadata={'input_tokens': 9, 'output_tokens': 9, 'total_tokens': 18, 'input_token_details': {'audio': 0, 'cache_read': 0}, 'output_token_details': {'audio': 0, 'reasoning': 0}}), HumanMessage(content='My name is Hitesh', additional_kwargs={}, response_metadata={}, id='1fd03d9d-4b32-49f2-b03a-af105459eed9'), AIMessage(content='Nice to meet you, Hitesh! How can I help you today?', additional_kwargs={'refusal': None}, response_metadata={'token_usage': {'completion_tokens': 16, 'prompt_tokens': 32, 'total_tokens': 48, 'completion_tokens_details': {'accepted_prediction_tokens': 0, 'audio_tokens': 0, 'reasoning_tokens': 0, 'rejected_prediction_tokens': 0}, 'prompt_tokens_details': {'audio_tokens': 0, 'cached_tokens': 0}}, 'model_name': 'gpt-3.5-turbo-0125', 'system_fingerprint': None, 'id': 'chatcmpl-C0qy0PdUV1bSj8RROs2q12GDEuaDw', 'service_tier': 'default', 'finish_reason': 'stop', 'logprobs': None}, id='run--facc3e96-495f-4492-b0c8-cc88d50a0d3a-0', usage_metadata={'input_tokens': 32, 'output_tokens': 16, 'total_tokens': 48, 'input_token_details': {'audio': 0, 'cache_read': 0}, 'output_token_details': {'audio': 0, 'reasoning': 0}}), HumanMessage(content='What is my name', additional_kwargs={}, response_metadata={}, id='b9394301-c206-4fca-9b86-d3aee45bdd18'), AIMessage(content='Your name is Hitesh.', additional_kwargs={'refusal': None}, response_metadata={'token_usage': {'completion_tokens': 7, 'prompt_tokens': 60, 'total_tokens': 67, 'completion_tokens_details': {'accepted_prediction_tokens': 0, 'audio_tokens': 0, 'reasoning_tokens': 0, 'rejected_prediction_tokens': 0}, 'prompt_tokens_details': {'audio_tokens': 0, 'cached_tokens': 0}}, 'model_name': 'gpt-3.5-turbo-0125', 'system_fingerprint': None, 'id': 'chatcmpl-C0qy4wtp0guqwv80GIzFSDMbLC1uk', 'service_tier': 'default', 'finish_reason': 'stop', 'logprobs': None}, id='run--0c0c8d35-2c8b-4c41-85f0-294957fd18e0-0', usage_metadata={'input_tokens': 60, 'output_tokens': 7, 'total_tokens': 67, 'input_token_details': {'audio': 0, 'cache_read': 0}, 'output_token_details': {'audio': 0, 'reasoning': 0}}), HumanMessage(content='Can you suggest good username related to my name for instagram', additional_kwargs={}, response_metadata={}, id='a714328f-a64a-4327-8d4c-4e308becc84e'), AIMessage(content='Of course! Here are some Instagram username suggestions related to your name \"Hitesh\":\\n1. HiteshVibes\\n2. HiteshJourney\\n3. TheRealHitesh\\n4. HiteshInspires\\n5. Hitesh_Adventures\\n6. HiteshExplore\\n7. HiteshCreates\\n8. Hitesh_Wanderlust\\n9. HiteshChronicles\\n10. HiteshDreamer\\n\\nI hope these suggestions help you find the perfect Instagram username!', additional_kwargs={'refusal': None}, response_metadata={'token_usage': {'completion_tokens': 111, 'prompt_tokens': 86, 'total_tokens': 197, 'completion_tokens_details': {'accepted_prediction_tokens': 0, 'audio_tokens': 0, 'reasoning_tokens': 0, 'rejected_prediction_tokens': 0}, 'prompt_tokens_details': {'audio_tokens': 0, 'cached_tokens': 0}}, 'model_name': 'gpt-3.5-turbo-0125', 'system_fingerprint': None, 'id': 'chatcmpl-C0qyNnwhucRqpjSR2j5QNn1qC1Kw7', 'service_tier': 'default', 'finish_reason': 'stop', 'logprobs': None}, id='run--007eb214-94c0-4e1b-a170-9105835b8021-0', usage_metadata={'input_tokens': 86, 'output_tokens': 111, 'total_tokens': 197, 'input_token_details': {'audio': 0, 'cache_read': 0}, 'output_token_details': {'audio': 0, 'reasoning': 0}}), HumanMessage(content='Make joke with my name', additional_kwargs={}, response_metadata={}, id='b5406ef1-a94d-408d-90dd-e8753ca0bb92'), AIMessage(content=\"Sure! Here's a light-hearted joke related to your name, Hitesh:\\n\\nWhy did Hitesh bring a ladder to the bar?\\n\\nBecause he heard the drinks were on the house! \\n\\nI hope that brought a smile to your face! Let me know if you want to hear more jokes or if there's anything else I can help you with.\", additional_kwargs={'refusal': None}, response_metadata={'token_usage': {'completion_tokens': 72, 'prompt_tokens': 210, 'total_tokens': 282, 'completion_tokens_details': {'accepted_prediction_tokens': 0, 'audio_tokens': 0, 'reasoning_tokens': 0, 'rejected_prediction_tokens': 0}, 'prompt_tokens_details': {'audio_tokens': 0, 'cached_tokens': 0}}, 'model_name': 'gpt-3.5-turbo-0125', 'system_fingerprint': None, 'id': 'chatcmpl-C0qyc453VtxC1NOWnPpR7D394GRpk', 'service_tier': 'default', 'finish_reason': 'stop', 'logprobs': None}, id='run--5795bd2c-5c6a-4d3a-a3e4-e555424ac80a-0', usage_metadata={'input_tokens': 210, 'output_tokens': 72, 'total_tokens': 282, 'input_token_details': {'audio': 0, 'cache_read': 0}, 'output_token_details': {'audio': 0, 'reasoning': 0}}), HumanMessage(content='What is 10 * 10', additional_kwargs={}, response_metadata={}, id='6533c265-f2fb-4677-9024-0a3e36dad383'), AIMessage(content='10 * 10 equals 100.', additional_kwargs={'refusal': None}, response_metadata={'token_usage': {'completion_tokens': 8, 'prompt_tokens': 297, 'total_tokens': 305, 'completion_tokens_details': {'accepted_prediction_tokens': 0, 'audio_tokens': 0, 'reasoning_tokens': 0, 'rejected_prediction_tokens': 0}, 'prompt_tokens_details': {'audio_tokens': 0, 'cached_tokens': 0}}, 'model_name': 'gpt-3.5-turbo-0125', 'system_fingerprint': None, 'id': 'chatcmpl-C0qyzCHILJkywDbhjBNmevLRz8PqT', 'service_tier': 'default', 'finish_reason': 'stop', 'logprobs': None}, id='run--65d5026a-b94a-4588-985c-a249ee85eeee-0', usage_metadata={'input_tokens': 297, 'output_tokens': 8, 'total_tokens': 305, 'input_token_details': {'audio': 0, 'cache_read': 0}, 'output_token_details': {'audio': 0, 'reasoning': 0}}), HumanMessage(content='Now add 50 to it', additional_kwargs={}, response_metadata={}, id='ea0d9e09-e75d-47c0-8958-11b406588f5d'), AIMessage(content='Adding 50 to 100 results in 150.', additional_kwargs={'refusal': None}, response_metadata={'token_usage': {'completion_tokens': 11, 'prompt_tokens': 319, 'total_tokens': 330, 'completion_tokens_details': {'accepted_prediction_tokens': 0, 'audio_tokens': 0, 'reasoning_tokens': 0, 'rejected_prediction_tokens': 0}, 'prompt_tokens_details': {'audio_tokens': 0, 'cached_tokens': 0}}, 'model_name': 'gpt-3.5-turbo-0125', 'system_fingerprint': None, 'id': 'chatcmpl-C0qz6fX5VEZ9wZR2Lrf0mmqRnBiac', 'service_tier': 'default', 'finish_reason': 'stop', 'logprobs': None}, id='run--0f02c6e1-60ef-4bc9-82a9-2393354bc45d-0', usage_metadata={'input_tokens': 319, 'output_tokens': 11, 'total_tokens': 330, 'input_token_details': {'audio': 0, 'cache_read': 0}, 'output_token_details': {'audio': 0, 'reasoning': 0}})]}, next=(), config={'configurable': {'thread_id': '1', 'checkpoint_ns': '', 'checkpoint_id': '1f07143f-2945-64f2-8013-41daf5ccc9d1'}}, metadata={'source': 'loop', 'step': 19, 'parents': {}}, created_at='2025-08-04T15:01:49.504024+00:00', parent_config={'configurable': {'thread_id': '1', 'checkpoint_ns': '', 'checkpoint_id': '1f07143f-1dd9-6b4e-8012-2f73cbe9960f'}}, tasks=(), interrupts=())"
      ]
     },
     "execution_count": 17,
     "metadata": {},
     "output_type": "execute_result"
    }
   ],
   "source": [
    "chatbot.get_state(config=config)"
   ]
  },
  {
   "cell_type": "code",
   "execution_count": null,
   "id": "aef85e13",
   "metadata": {},
   "outputs": [],
   "source": []
  }
 ],
 "metadata": {
  "kernelspec": {
   "display_name": "venv",
   "language": "python",
   "name": "python3"
  },
  "language_info": {
   "codemirror_mode": {
    "name": "ipython",
    "version": 3
   },
   "file_extension": ".py",
   "mimetype": "text/x-python",
   "name": "python",
   "nbconvert_exporter": "python",
   "pygments_lexer": "ipython3",
   "version": "3.10.11"
  }
 },
 "nbformat": 4,
 "nbformat_minor": 5
}
