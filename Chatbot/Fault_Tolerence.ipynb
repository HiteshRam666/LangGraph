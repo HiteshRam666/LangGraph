{
 "cells": [
  {
   "cell_type": "code",
   "execution_count": 1,
   "id": "822225f9",
   "metadata": {},
   "outputs": [
    {
     "data": {
      "text/plain": [
       "True"
      ]
     },
     "execution_count": 1,
     "metadata": {},
     "output_type": "execute_result"
    }
   ],
   "source": [
    "from langgraph.graph import StateGraph, START, END \n",
    "from langgraph.checkpoint.memory import InMemorySaver \n",
    "from langchain_openai import ChatOpenAI\n",
    "from dotenv import load_dotenv\n",
    "load_dotenv()"
   ]
  },
  {
   "cell_type": "code",
   "execution_count": 2,
   "id": "7ec8fd89",
   "metadata": {},
   "outputs": [],
   "source": [
    "from typing import TypedDict \n",
    "\n",
    "class FaultState(TypedDict):\n",
    "    input: str \n",
    "    step1: str\n",
    "    step2: str\n",
    "    step3: str"
   ]
  },
  {
   "cell_type": "code",
   "execution_count": 3,
   "id": "43898dd0",
   "metadata": {},
   "outputs": [],
   "source": [
    "import time\n",
    "def step1(state: FaultState) -> FaultState:\n",
    "    print(\"Step 1: Executed✅\")\n",
    "    return {'input': state['input'], 'step1': \"done\"}\n",
    "\n",
    "def step2(state: FaultState) -> FaultState:\n",
    "    print(f\"Step 2: interupt execution❌\")\n",
    "    time.sleep(30)\n",
    "    return {'step2': \"done\"}\n",
    "\n",
    "def step3(state: FaultState) -> FaultState:\n",
    "    print(f\"Step 3: Executed✅\")\n",
    "    return {'step3': 'done'}"
   ]
  },
  {
   "cell_type": "code",
   "execution_count": 4,
   "id": "10906524",
   "metadata": {},
   "outputs": [],
   "source": [
    "checkpointer = InMemorySaver() \n",
    "\n",
    "graph = StateGraph(FaultState) \n",
    "\n",
    "graph.add_node(\"step1\", step1)\n",
    "graph.add_node(\"step2\", step2)\n",
    "graph.add_node(\"step3\", step3) \n",
    "\n",
    "graph.add_edge(START, \"step1\")\n",
    "graph.add_edge(\"step1\", \"step2\")\n",
    "graph.add_edge(\"step2\", \"step3\")\n",
    "graph.add_edge(\"step3\", END) \n",
    "\n",
    "workflow = graph.compile(checkpointer=checkpointer)"
   ]
  },
  {
   "cell_type": "code",
   "execution_count": 5,
   "id": "76df773f",
   "metadata": {},
   "outputs": [
    {
     "data": {
      "image/png": "[encoded data removed]",
      "text/plain": [
       "<langgraph.graph.state.CompiledStateGraph object at 0x0000017533DA2DD0>"
      ]
     },
     "execution_count": 5,
     "metadata": {},
     "output_type": "execute_result"
    }
   ],
   "source": [
    "workflow"
   ]
  },
  {
   "cell_type": "code",
   "execution_count": 6,
   "id": "8fc37581",
   "metadata": {},
   "outputs": [
    {
     "name": "stdout",
     "output_type": "stream",
     "text": [
      "Running graph: Please manually interupt at step2\n",
      "Step 1: Executed✅\n",
      "Step 2: interupt execution❌\n",
      "Execution got interupted❌\n"
     ]
    }
   ],
   "source": [
    "config1 = {'configurable': {'thread_id': 1}}\n",
    "\n",
    "try:\n",
    "    print(f\"Running graph: Please manually interupt at step2\")\n",
    "    workflow.invoke({'input': \"start\"}, config = config1)\n",
    "except KeyboardInterrupt:\n",
    "    print(f\"Execution got interupted❌\")"
   ]
  },
  {
   "cell_type": "code",
   "execution_count": 7,
   "id": "79c2e8e8",
   "metadata": {},
   "outputs": [
    {
     "name": "stdout",
     "output_type": "stream",
     "text": [
      "StateSnapshot(values={'input': 'start', 'step1': 'done'}, next=('step2',), config={'configurable': {'thread_id': '1', 'checkpoint_ns': '', 'checkpoint_id': '1f071ad2-a03b-68dc-8001-b97f78695cbb'}}, metadata={'source': 'loop', 'step': 1, 'parents': {}}, created_at='2025-08-05T03:34:59.665327+00:00', parent_config={'configurable': {'thread_id': '1', 'checkpoint_ns': '', 'checkpoint_id': '1f071ad2-a039-61c3-8000-2cf6799f0acd'}}, tasks=(PregelTask(id='f9fd7277-7beb-5c36-7c33-2be0f8ac7b22', name='step2', path=('__pregel_pull', 'step2'), error=None, interrupts=(), state=None, result=None),), interrupts=())\n"
     ]
    }
   ],
   "source": [
    "print(workflow.get_state(config=config1))"
   ]
  },
  {
   "cell_type": "code",
   "execution_count": 8,
   "id": "4794d357",
   "metadata": {},
   "outputs": [
    {
     "data": {
      "text/plain": [
       "[StateSnapshot(values={'input': 'start', 'step1': 'done'}, next=('step2',), config={'configurable': {'thread_id': '1', 'checkpoint_ns': '', 'checkpoint_id': '1f071ad2-a03b-68dc-8001-b97f78695cbb'}}, metadata={'source': 'loop', 'step': 1, 'parents': {}}, created_at='2025-08-05T03:34:59.665327+00:00', parent_config={'configurable': {'thread_id': '1', 'checkpoint_ns': '', 'checkpoint_id': '1f071ad2-a039-61c3-8000-2cf6799f0acd'}}, tasks=(PregelTask(id='f9fd7277-7beb-5c36-7c33-2be0f8ac7b22', name='step2', path=('__pregel_pull', 'step2'), error=None, interrupts=(), state=None, result=None),), interrupts=()),\n",
       " StateSnapshot(values={'input': 'start'}, next=('step1',), config={'configurable': {'thread_id': '1', 'checkpoint_ns': '', 'checkpoint_id': '1f071ad2-a039-61c3-8000-2cf6799f0acd'}}, metadata={'source': 'loop', 'step': 0, 'parents': {}}, created_at='2025-08-05T03:34:59.664326+00:00', parent_config={'configurable': {'thread_id': '1', 'checkpoint_ns': '', 'checkpoint_id': '1f071ad2-a035-6dde-bfff-c61e80662ec8'}}, tasks=(PregelTask(id='4b70dddb-ab78-acdf-b25d-4675c7c07d2c', name='step1', path=('__pregel_pull', 'step1'), error=None, interrupts=(), state=None, result={'input': 'start', 'step1': 'done'}),), interrupts=()),\n",
       " StateSnapshot(values={}, next=('__start__',), config={'configurable': {'thread_id': '1', 'checkpoint_ns': '', 'checkpoint_id': '1f071ad2-a035-6dde-bfff-c61e80662ec8'}}, metadata={'source': 'input', 'step': -1, 'parents': {}}, created_at='2025-08-05T03:34:59.662998+00:00', parent_config=None, tasks=(PregelTask(id='abaa981f-631c-c858-c5ac-68343a2cd4d8', name='__start__', path=('__pregel_pull', '__start__'), error=None, interrupts=(), state=None, result={'input': 'start'}),), interrupts=())]"
      ]
     },
     "execution_count": 8,
     "metadata": {},
     "output_type": "execute_result"
    }
   ],
   "source": [
    "list(workflow.get_state_history(config=config1))"
   ]
  },
  {
   "cell_type": "code",
   "execution_count": 9,
   "id": "409bd844",
   "metadata": {},
   "outputs": [
    {
     "name": "stdout",
     "output_type": "stream",
     "text": [
      "Step 2: interupt execution❌\n",
      "Step 3: Executed✅\n",
      "{'input': 'start', 'step1': 'done', 'step2': 'done', 'step3': 'done'}\n"
     ]
    }
   ],
   "source": [
    "final_state = workflow.invoke(None, config=config1)\n",
    "print(final_state)"
   ]
  },
  {
   "cell_type": "code",
   "execution_count": 12,
   "id": "c24ee70e",
   "metadata": {},
   "outputs": [
    {
     "data": {
      "text/plain": [
       "[StateSnapshot(values={'input': 'start', 'step1': 'done', 'step2': 'done', 'step3': 'done'}, next=(), config={'configurable': {'thread_id': '1', 'checkpoint_ns': '', 'checkpoint_id': '1f071ad6-1ad3-6818-8003-4656bca27c0f'}}, metadata={'source': 'loop', 'step': 3, 'parents': {}}, created_at='2025-08-05T03:36:33.050831+00:00', parent_config={'configurable': {'thread_id': '1', 'checkpoint_ns': '', 'checkpoint_id': '1f071ad6-1ad3-6817-8002-74b66f710ba5'}}, tasks=(), interrupts=()),\n",
       " StateSnapshot(values={'input': 'start', 'step1': 'done', 'step2': 'done'}, next=('step3',), config={'configurable': {'thread_id': '1', 'checkpoint_ns': '', 'checkpoint_id': '1f071ad6-1ad3-6817-8002-74b66f710ba5'}}, metadata={'source': 'loop', 'step': 2, 'parents': {}}, created_at='2025-08-05T03:36:33.050831+00:00', parent_config={'configurable': {'thread_id': '1', 'checkpoint_ns': '', 'checkpoint_id': '1f071ad2-a03b-68dc-8001-b97f78695cbb'}}, tasks=(PregelTask(id='1d167f97-51b6-23af-31d2-c496b7aeeb4d', name='step3', path=('__pregel_pull', 'step3'), error=None, interrupts=(), state=None, result={'step3': 'done'}),), interrupts=()),\n",
       " StateSnapshot(values={'input': 'start', 'step1': 'done'}, next=('step2',), config={'configurable': {'thread_id': '1', 'checkpoint_ns': '', 'checkpoint_id': '1f071ad2-a03b-68dc-8001-b97f78695cbb'}}, metadata={'source': 'loop', 'step': 1, 'parents': {}}, created_at='2025-08-05T03:34:59.665327+00:00', parent_config={'configurable': {'thread_id': '1', 'checkpoint_ns': '', 'checkpoint_id': '1f071ad2-a039-61c3-8000-2cf6799f0acd'}}, tasks=(PregelTask(id='f9fd7277-7beb-5c36-7c33-2be0f8ac7b22', name='step2', path=('__pregel_pull', 'step2'), error=None, interrupts=(), state=None, result={'step2': 'done'}),), interrupts=()),\n",
       " StateSnapshot(values={'input': 'start'}, next=('step1',), config={'configurable': {'thread_id': '1', 'checkpoint_ns': '', 'checkpoint_id': '1f071ad2-a039-61c3-8000-2cf6799f0acd'}}, metadata={'source': 'loop', 'step': 0, 'parents': {}}, created_at='2025-08-05T03:34:59.664326+00:00', parent_config={'configurable': {'thread_id': '1', 'checkpoint_ns': '', 'checkpoint_id': '1f071ad2-a035-6dde-bfff-c61e80662ec8'}}, tasks=(PregelTask(id='4b70dddb-ab78-acdf-b25d-4675c7c07d2c', name='step1', path=('__pregel_pull', 'step1'), error=None, interrupts=(), state=None, result={'input': 'start', 'step1': 'done'}),), interrupts=()),\n",
       " StateSnapshot(values={}, next=('__start__',), config={'configurable': {'thread_id': '1', 'checkpoint_ns': '', 'checkpoint_id': '1f071ad2-a035-6dde-bfff-c61e80662ec8'}}, metadata={'source': 'input', 'step': -1, 'parents': {}}, created_at='2025-08-05T03:34:59.662998+00:00', parent_config=None, tasks=(PregelTask(id='abaa981f-631c-c858-c5ac-68343a2cd4d8', name='__start__', path=('__pregel_pull', '__start__'), error=None, interrupts=(), state=None, result={'input': 'start'}),), interrupts=())]"
      ]
     },
     "execution_count": 12,
     "metadata": {},
     "output_type": "execute_result"
    }
   ],
   "source": [
    "list(workflow.get_state_history(config=config1))"
   ]
  },
  {
   "cell_type": "markdown",
   "id": "06741bd4",
   "metadata": {},
   "source": [
    "### **Time Travel**"
   ]
  },
  {
   "cell_type": "code",
   "execution_count": 13,
   "id": "365c4765",
   "metadata": {},
   "outputs": [
    {
     "data": {
      "text/plain": [
       "StateSnapshot(values={'input': 'start'}, next=('step1',), config={'configurable': {'thread_id': '1', 'checkpoint_id': '1f071ad2-a039-61c3-8000-2cf6799f0acd'}}, metadata={'source': 'loop', 'step': 0, 'parents': {}}, created_at='2025-08-05T03:34:59.664326+00:00', parent_config={'configurable': {'thread_id': '1', 'checkpoint_ns': '', 'checkpoint_id': '1f071ad2-a035-6dde-bfff-c61e80662ec8'}}, tasks=(PregelTask(id='4b70dddb-ab78-acdf-b25d-4675c7c07d2c', name='step1', path=('__pregel_pull', 'step1'), error=None, interrupts=(), state=None, result={'input': 'start', 'step1': 'done'}),), interrupts=())"
      ]
     },
     "execution_count": 13,
     "metadata": {},
     "output_type": "execute_result"
    }
   ],
   "source": [
    "workflow.get_state({\"configurable\": {\"thread_id\": \"1\", \"checkpoint_id\": \"1f071ad2-a039-61c3-8000-2cf6799f0acd\"}})"
   ]
  },
  {
   "cell_type": "code",
   "execution_count": 15,
   "id": "63384e71",
   "metadata": {},
   "outputs": [
    {
     "name": "stdout",
     "output_type": "stream",
     "text": [
      "Step 1: Executed✅\n",
      "Step 2: interupt execution❌\n",
      "Step 3: Executed✅\n"
     ]
    },
    {
     "data": {
      "text/plain": [
       "{'input': 'start', 'step1': 'done', 'step2': 'done', 'step3': 'done'}"
      ]
     },
     "execution_count": 15,
     "metadata": {},
     "output_type": "execute_result"
    }
   ],
   "source": [
    "workflow.invoke(None, {\"configurable\": {\"thread_id\": \"1\", \"checkpoint_id\": \"1f071ad2-a039-61c3-8000-2cf6799f0acd\"}})"
   ]
  },
  {
   "cell_type": "code",
   "execution_count": null,
   "id": "539ae5a5",
   "metadata": {},
   "outputs": [],
   "source": []
  }
 ],
 "metadata": {
  "kernelspec": {
   "display_name": "venv",
   "language": "python",
   "name": "python3"
  },
  "language_info": {
   "codemirror_mode": {
    "name": "ipython",
    "version": 3
   },
   "file_extension": ".py",
   "mimetype": "text/x-python",
   "name": "python",
   "nbconvert_exporter": "python",
   "pygments_lexer": "ipython3",
   "version": "3.10.11"
  }
 },
 "nbformat": 4,
 "nbformat_minor": 5
}
