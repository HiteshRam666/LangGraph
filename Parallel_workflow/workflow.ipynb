{
 "cells": [
  {
   "cell_type": "code",
   "execution_count": 30,
   "id": "4fe345e2",
   "metadata": {},
   "outputs": [],
   "source": [
    "from langgraph.graph import StateGraph, START, END \n",
    "from langchain_openai import ChatOpenAI\n",
    "from typing import TypedDict"
   ]
  },
  {
   "cell_type": "code",
   "execution_count": 56,
   "id": "38178b38",
   "metadata": {},
   "outputs": [],
   "source": [
    "class BatsmanState(TypedDict):\n",
    "    runs: int \n",
    "    balls: int \n",
    "    fours: int \n",
    "    sixes: int\n",
    "\n",
    "    strick_rate: float \n",
    "    ball_per_boundary: float    \n",
    "    boundary_percent: float\n",
    "\n",
    "    summary: str"
   ]
  },
  {
   "cell_type": "code",
   "execution_count": 66,
   "id": "573f7a9e",
   "metadata": {},
   "outputs": [],
   "source": [
    "def calculate_strick_rate(state: BatsmanState) -> BatsmanState:\n",
    "    sr = (state['runs'] / state['balls']) * 100\n",
    "    \n",
    "    return {'strick_rate': sr}"
   ]
  },
  {
   "cell_type": "code",
   "execution_count": 67,
   "id": "74ae1ef4",
   "metadata": {},
   "outputs": [],
   "source": [
    "def calculate_balls_per_boundary(state: BatsmanState) -> BatsmanState:\n",
    "    bpb = state['balls'] / (state['fours'] + state['sixes'])\n",
    "\n",
    "    return {'ball_per_boundary': bpb}"
   ]
  },
  {
   "cell_type": "code",
   "execution_count": 68,
   "id": "62f7a78d",
   "metadata": {},
   "outputs": [],
   "source": [
    "def calculate_boundary_percent(state: BatsmanState) -> BatsmanState:\n",
    "    boundary_percent = (((state['fours'] + 4 + state['sixes'] * 6)) / state['runs']) * 100 \n",
    "\n",
    "    return {'boundary_percent': boundary_percent}"
   ]
  },
  {
   "cell_type": "code",
   "execution_count": 69,
   "id": "3aa79ae3",
   "metadata": {},
   "outputs": [],
   "source": [
    "def summary(state: BatsmanState) -> BatsmanState:\n",
    "    summary = f\"\"\"\"\n",
    "    Strike Rate - {state['strick_rate']} \\n \n",
    "    Balls per boundary - {state['ball_per_boundary']} \\n \n",
    "    Boundary Percent - {state['boundary_percent']}\n",
    "    \"\"\"\n",
    "\n",
    "    return {'summary': summary}"
   ]
  },
  {
   "cell_type": "code",
   "execution_count": 70,
   "id": "297ff275",
   "metadata": {},
   "outputs": [],
   "source": [
    "graph = StateGraph(BatsmanState)\n",
    "\n",
    "graph.add_node('calculate_strick_rate', calculate_strick_rate)\n",
    "graph.add_node('calculate_balls_per_boundary', calculate_balls_per_boundary)\n",
    "graph.add_node('calculate_boundary_percent', calculate_boundary_percent) \n",
    "graph.add_node('summary', summary)\n",
    "\n",
    "graph.add_edge(START, 'calculate_strick_rate')\n",
    "graph.add_edge(START, 'calculate_balls_per_boundary')\n",
    "graph.add_edge(START, 'calculate_boundary_percent') \n",
    "\n",
    "graph.add_edge('calculate_strick_rate', 'summary')\n",
    "graph.add_edge('calculate_balls_per_boundary', 'summary')\n",
    "graph.add_edge('calculate_boundary_percent', 'summary')\n",
    "\n",
    "graph.add_edge('summary', END) \n",
    "\n",
    "workflow = graph.compile()"
   ]
  },
  {
   "cell_type": "code",
   "execution_count": 71,
   "id": "3d7d2780",
   "metadata": {},
   "outputs": [
    {
     "data": {
      "image/png": "[encoded data removed]",
      "text/plain": [
       "<langgraph.graph.state.CompiledStateGraph object at 0x000001DD132F36A0>"
      ]
     },
     "execution_count": 71,
     "metadata": {},
     "output_type": "execute_result"
    }
   ],
   "source": [
    "workflow"
   ]
  },
  {
   "cell_type": "code",
   "execution_count": 72,
   "id": "12aff3cc",
   "metadata": {},
   "outputs": [
    {
     "data": {
      "text/plain": [
       "{'runs': 100,\n",
       " 'balls': 50,\n",
       " 'fours': 6,\n",
       " 'sixes': 4,\n",
       " 'strick_rate': 200.0,\n",
       " 'ball_per_boundary': 5.0,\n",
       " 'boundary_percent': 34.0,\n",
       " 'summary': '\"\\n    Strike Rate - 200.0 \\n \\n    Balls per boundary - 5.0 \\n \\n    Boundary Percent - 34.0\\n    '}"
      ]
     },
     "execution_count": 72,
     "metadata": {},
     "output_type": "execute_result"
    }
   ],
   "source": [
    "initial_state = {\n",
    "    'runs': 100, \n",
    "    'balls': 50, \n",
    "    'fours': 6, \n",
    "    'sixes': 4\n",
    "}\n",
    "\n",
    "workflow.invoke(initial_state)"
   ]
  },
  {
   "cell_type": "code",
   "execution_count": null,
   "id": "425cac1f",
   "metadata": {},
   "outputs": [],
   "source": []
  }
 ],
 "metadata": {
  "kernelspec": {
   "display_name": "venv",
   "language": "python",
   "name": "python3"
  },
  "language_info": {
   "codemirror_mode": {
    "name": "ipython",
    "version": 3
   },
   "file_extension": ".py",
   "mimetype": "text/x-python",
   "name": "python",
   "nbconvert_exporter": "python",
   "pygments_lexer": "ipython3",
   "version": "3.10.11"
  }
 },
 "nbformat": 4,
 "nbformat_minor": 5
}
